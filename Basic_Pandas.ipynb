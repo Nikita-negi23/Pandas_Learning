{
 "cells": [
  {
   "cell_type": "code",
   "execution_count": 1,
   "id": "b29491f8-cd1e-4f5a-8088-8b69198d272c",
   "metadata": {},
   "outputs": [],
   "source": [
    "import numpy as np\n",
    "import pandas as pd"
   ]
  },
  {
   "cell_type": "code",
   "execution_count": 2,
   "id": "e2170b88-05aa-4172-aca2-8b3f8df55f4e",
   "metadata": {},
   "outputs": [],
   "source": [
    "dict1 = {\n",
    "    \"name\":['harry','rohan','skillf','shubh'],\n",
    "    \"marks\" : [92,34,24,17],\n",
    "    \"city\" : ['rampur','kolkata','bareily','antarctica']\n",
    "}"
   ]
  },
  {
   "cell_type": "code",
   "execution_count": 3,
   "id": "ab8b353a-91bf-4585-a0ad-5b5ca2c78b16",
   "metadata": {},
   "outputs": [],
   "source": [
    "df = pd.DataFrame(dict1)"
   ]
  },
  {
   "cell_type": "code",
   "execution_count": 4,
   "id": "8e86c560-a7f6-470d-b063-16aa792ad8b7",
   "metadata": {},
   "outputs": [
    {
     "data": {
      "text/html": [
       "<div>\n",
       "<style scoped>\n",
       "    .dataframe tbody tr th:only-of-type {\n",
       "        vertical-align: middle;\n",
       "    }\n",
       "\n",
       "    .dataframe tbody tr th {\n",
       "        vertical-align: top;\n",
       "    }\n",
       "\n",
       "    .dataframe thead th {\n",
       "        text-align: right;\n",
       "    }\n",
       "</style>\n",
       "<table border=\"1\" class=\"dataframe\">\n",
       "  <thead>\n",
       "    <tr style=\"text-align: right;\">\n",
       "      <th></th>\n",
       "      <th>name</th>\n",
       "      <th>marks</th>\n",
       "      <th>city</th>\n",
       "    </tr>\n",
       "  </thead>\n",
       "  <tbody>\n",
       "    <tr>\n",
       "      <th>0</th>\n",
       "      <td>harry</td>\n",
       "      <td>92</td>\n",
       "      <td>rampur</td>\n",
       "    </tr>\n",
       "    <tr>\n",
       "      <th>1</th>\n",
       "      <td>rohan</td>\n",
       "      <td>34</td>\n",
       "      <td>kolkata</td>\n",
       "    </tr>\n",
       "    <tr>\n",
       "      <th>2</th>\n",
       "      <td>skillf</td>\n",
       "      <td>24</td>\n",
       "      <td>bareily</td>\n",
       "    </tr>\n",
       "    <tr>\n",
       "      <th>3</th>\n",
       "      <td>shubh</td>\n",
       "      <td>17</td>\n",
       "      <td>antarctica</td>\n",
       "    </tr>\n",
       "  </tbody>\n",
       "</table>\n",
       "</div>"
      ],
      "text/plain": [
       "     name  marks        city\n",
       "0   harry     92      rampur\n",
       "1   rohan     34     kolkata\n",
       "2  skillf     24     bareily\n",
       "3   shubh     17  antarctica"
      ]
     },
     "execution_count": 4,
     "metadata": {},
     "output_type": "execute_result"
    }
   ],
   "source": [
    "df"
   ]
  },
  {
   "cell_type": "code",
   "execution_count": 5,
   "id": "cf889d58-dc57-4790-9bc5-940aea30de08",
   "metadata": {},
   "outputs": [
    {
     "data": {
      "text/html": [
       "<div>\n",
       "<style scoped>\n",
       "    .dataframe tbody tr th:only-of-type {\n",
       "        vertical-align: middle;\n",
       "    }\n",
       "\n",
       "    .dataframe tbody tr th {\n",
       "        vertical-align: top;\n",
       "    }\n",
       "\n",
       "    .dataframe thead th {\n",
       "        text-align: right;\n",
       "    }\n",
       "</style>\n",
       "<table border=\"1\" class=\"dataframe\">\n",
       "  <thead>\n",
       "    <tr style=\"text-align: right;\">\n",
       "      <th></th>\n",
       "      <th>name</th>\n",
       "      <th>marks</th>\n",
       "      <th>city</th>\n",
       "    </tr>\n",
       "  </thead>\n",
       "  <tbody>\n",
       "    <tr>\n",
       "      <th>0</th>\n",
       "      <td>harry</td>\n",
       "      <td>92</td>\n",
       "      <td>rampur</td>\n",
       "    </tr>\n",
       "    <tr>\n",
       "      <th>1</th>\n",
       "      <td>rohan</td>\n",
       "      <td>34</td>\n",
       "      <td>kolkata</td>\n",
       "    </tr>\n",
       "  </tbody>\n",
       "</table>\n",
       "</div>"
      ],
      "text/plain": [
       "    name  marks     city\n",
       "0  harry     92   rampur\n",
       "1  rohan     34  kolkata"
      ]
     },
     "execution_count": 5,
     "metadata": {},
     "output_type": "execute_result"
    }
   ],
   "source": [
    "df.head(2)"
   ]
  },
  {
   "cell_type": "code",
   "execution_count": 6,
   "id": "9c4cbfbc-8632-40d9-82a2-e2b156ea4fb4",
   "metadata": {},
   "outputs": [
    {
     "data": {
      "text/html": [
       "<div>\n",
       "<style scoped>\n",
       "    .dataframe tbody tr th:only-of-type {\n",
       "        vertical-align: middle;\n",
       "    }\n",
       "\n",
       "    .dataframe tbody tr th {\n",
       "        vertical-align: top;\n",
       "    }\n",
       "\n",
       "    .dataframe thead th {\n",
       "        text-align: right;\n",
       "    }\n",
       "</style>\n",
       "<table border=\"1\" class=\"dataframe\">\n",
       "  <thead>\n",
       "    <tr style=\"text-align: right;\">\n",
       "      <th></th>\n",
       "      <th>name</th>\n",
       "      <th>marks</th>\n",
       "      <th>city</th>\n",
       "    </tr>\n",
       "  </thead>\n",
       "  <tbody>\n",
       "    <tr>\n",
       "      <th>1</th>\n",
       "      <td>rohan</td>\n",
       "      <td>34</td>\n",
       "      <td>kolkata</td>\n",
       "    </tr>\n",
       "    <tr>\n",
       "      <th>2</th>\n",
       "      <td>skillf</td>\n",
       "      <td>24</td>\n",
       "      <td>bareily</td>\n",
       "    </tr>\n",
       "    <tr>\n",
       "      <th>3</th>\n",
       "      <td>shubh</td>\n",
       "      <td>17</td>\n",
       "      <td>antarctica</td>\n",
       "    </tr>\n",
       "  </tbody>\n",
       "</table>\n",
       "</div>"
      ],
      "text/plain": [
       "     name  marks        city\n",
       "1   rohan     34     kolkata\n",
       "2  skillf     24     bareily\n",
       "3   shubh     17  antarctica"
      ]
     },
     "execution_count": 6,
     "metadata": {},
     "output_type": "execute_result"
    }
   ],
   "source": [
    "df.tail(3)"
   ]
  },
  {
   "cell_type": "code",
   "execution_count": 7,
   "id": "1c2adf12-5ea9-491c-8f3e-e384431598ef",
   "metadata": {},
   "outputs": [
    {
     "data": {
      "text/html": [
       "<div>\n",
       "<style scoped>\n",
       "    .dataframe tbody tr th:only-of-type {\n",
       "        vertical-align: middle;\n",
       "    }\n",
       "\n",
       "    .dataframe tbody tr th {\n",
       "        vertical-align: top;\n",
       "    }\n",
       "\n",
       "    .dataframe thead th {\n",
       "        text-align: right;\n",
       "    }\n",
       "</style>\n",
       "<table border=\"1\" class=\"dataframe\">\n",
       "  <thead>\n",
       "    <tr style=\"text-align: right;\">\n",
       "      <th></th>\n",
       "      <th>marks</th>\n",
       "    </tr>\n",
       "  </thead>\n",
       "  <tbody>\n",
       "    <tr>\n",
       "      <th>count</th>\n",
       "      <td>4.00000</td>\n",
       "    </tr>\n",
       "    <tr>\n",
       "      <th>mean</th>\n",
       "      <td>41.75000</td>\n",
       "    </tr>\n",
       "    <tr>\n",
       "      <th>std</th>\n",
       "      <td>34.21866</td>\n",
       "    </tr>\n",
       "    <tr>\n",
       "      <th>min</th>\n",
       "      <td>17.00000</td>\n",
       "    </tr>\n",
       "    <tr>\n",
       "      <th>25%</th>\n",
       "      <td>22.25000</td>\n",
       "    </tr>\n",
       "    <tr>\n",
       "      <th>50%</th>\n",
       "      <td>29.00000</td>\n",
       "    </tr>\n",
       "    <tr>\n",
       "      <th>75%</th>\n",
       "      <td>48.50000</td>\n",
       "    </tr>\n",
       "    <tr>\n",
       "      <th>max</th>\n",
       "      <td>92.00000</td>\n",
       "    </tr>\n",
       "  </tbody>\n",
       "</table>\n",
       "</div>"
      ],
      "text/plain": [
       "          marks\n",
       "count   4.00000\n",
       "mean   41.75000\n",
       "std    34.21866\n",
       "min    17.00000\n",
       "25%    22.25000\n",
       "50%    29.00000\n",
       "75%    48.50000\n",
       "max    92.00000"
      ]
     },
     "execution_count": 7,
     "metadata": {},
     "output_type": "execute_result"
    }
   ],
   "source": [
    "df.describe()"
   ]
  },
  {
   "cell_type": "code",
   "execution_count": 8,
   "id": "a841876c-642b-4149-a26f-6ca50e9f08ba",
   "metadata": {},
   "outputs": [],
   "source": [
    "ser = pd.Series(np.random.rand(34))"
   ]
  },
  {
   "cell_type": "code",
   "execution_count": 9,
   "id": "e05bc5ff-5c48-46ce-9a5e-c162f32516a3",
   "metadata": {},
   "outputs": [
    {
     "data": {
      "text/plain": [
       "0     0.172291\n",
       "1     0.892636\n",
       "2     0.449182\n",
       "3     0.632336\n",
       "4     0.654832\n",
       "5     0.803870\n",
       "6     0.637026\n",
       "7     0.322634\n",
       "8     0.568407\n",
       "9     0.771409\n",
       "10    0.954961\n",
       "11    0.334819\n",
       "12    0.797335\n",
       "13    0.535386\n",
       "14    0.306129\n",
       "15    0.654944\n",
       "16    0.391070\n",
       "17    0.756501\n",
       "18    0.253836\n",
       "19    0.976073\n",
       "20    0.982477\n",
       "21    0.694060\n",
       "22    0.631616\n",
       "23    0.971462\n",
       "24    0.758477\n",
       "25    0.233617\n",
       "26    0.190320\n",
       "27    0.044333\n",
       "28    0.365424\n",
       "29    0.533190\n",
       "30    0.219141\n",
       "31    0.025430\n",
       "32    0.197423\n",
       "33    0.907765\n",
       "dtype: float64"
      ]
     },
     "execution_count": 9,
     "metadata": {},
     "output_type": "execute_result"
    }
   ],
   "source": [
    "ser"
   ]
  },
  {
   "cell_type": "code",
   "execution_count": 10,
   "id": "ee512a42-2163-4a28-9720-343e0823feb4",
   "metadata": {},
   "outputs": [
    {
     "data": {
      "text/plain": [
       "pandas.core.series.Series"
      ]
     },
     "execution_count": 10,
     "metadata": {},
     "output_type": "execute_result"
    }
   ],
   "source": [
    "type(ser)"
   ]
  },
  {
   "cell_type": "code",
   "execution_count": 11,
   "id": "1fccec01-3cd9-44c1-b95d-4f398873151f",
   "metadata": {},
   "outputs": [],
   "source": [
    "newdf = pd.DataFrame(np.random.rand(334,5), index=np.arange(334))"
   ]
  },
  {
   "cell_type": "code",
   "execution_count": 12,
   "id": "79c1451e-2cbe-4aef-a778-7b9ba9f3d67d",
   "metadata": {},
   "outputs": [
    {
     "data": {
      "text/html": [
       "<div>\n",
       "<style scoped>\n",
       "    .dataframe tbody tr th:only-of-type {\n",
       "        vertical-align: middle;\n",
       "    }\n",
       "\n",
       "    .dataframe tbody tr th {\n",
       "        vertical-align: top;\n",
       "    }\n",
       "\n",
       "    .dataframe thead th {\n",
       "        text-align: right;\n",
       "    }\n",
       "</style>\n",
       "<table border=\"1\" class=\"dataframe\">\n",
       "  <thead>\n",
       "    <tr style=\"text-align: right;\">\n",
       "      <th></th>\n",
       "      <th>0</th>\n",
       "      <th>1</th>\n",
       "      <th>2</th>\n",
       "      <th>3</th>\n",
       "      <th>4</th>\n",
       "    </tr>\n",
       "  </thead>\n",
       "  <tbody>\n",
       "    <tr>\n",
       "      <th>0</th>\n",
       "      <td>0.338461</td>\n",
       "      <td>0.793746</td>\n",
       "      <td>0.101749</td>\n",
       "      <td>0.186702</td>\n",
       "      <td>0.439606</td>\n",
       "    </tr>\n",
       "    <tr>\n",
       "      <th>1</th>\n",
       "      <td>0.741713</td>\n",
       "      <td>0.537208</td>\n",
       "      <td>0.440438</td>\n",
       "      <td>0.371844</td>\n",
       "      <td>0.006269</td>\n",
       "    </tr>\n",
       "    <tr>\n",
       "      <th>2</th>\n",
       "      <td>0.101985</td>\n",
       "      <td>0.415849</td>\n",
       "      <td>0.314053</td>\n",
       "      <td>0.865430</td>\n",
       "      <td>0.701579</td>\n",
       "    </tr>\n",
       "    <tr>\n",
       "      <th>3</th>\n",
       "      <td>0.271698</td>\n",
       "      <td>0.360213</td>\n",
       "      <td>0.515918</td>\n",
       "      <td>0.668638</td>\n",
       "      <td>0.783571</td>\n",
       "    </tr>\n",
       "    <tr>\n",
       "      <th>4</th>\n",
       "      <td>0.653062</td>\n",
       "      <td>0.070667</td>\n",
       "      <td>0.202476</td>\n",
       "      <td>0.621895</td>\n",
       "      <td>0.536560</td>\n",
       "    </tr>\n",
       "    <tr>\n",
       "      <th>...</th>\n",
       "      <td>...</td>\n",
       "      <td>...</td>\n",
       "      <td>...</td>\n",
       "      <td>...</td>\n",
       "      <td>...</td>\n",
       "    </tr>\n",
       "    <tr>\n",
       "      <th>329</th>\n",
       "      <td>0.905638</td>\n",
       "      <td>0.409533</td>\n",
       "      <td>0.374882</td>\n",
       "      <td>0.209380</td>\n",
       "      <td>0.000461</td>\n",
       "    </tr>\n",
       "    <tr>\n",
       "      <th>330</th>\n",
       "      <td>0.860111</td>\n",
       "      <td>0.798523</td>\n",
       "      <td>0.115985</td>\n",
       "      <td>0.741180</td>\n",
       "      <td>0.946149</td>\n",
       "    </tr>\n",
       "    <tr>\n",
       "      <th>331</th>\n",
       "      <td>0.081604</td>\n",
       "      <td>0.343062</td>\n",
       "      <td>0.741529</td>\n",
       "      <td>0.260209</td>\n",
       "      <td>0.864721</td>\n",
       "    </tr>\n",
       "    <tr>\n",
       "      <th>332</th>\n",
       "      <td>0.684520</td>\n",
       "      <td>0.650629</td>\n",
       "      <td>0.037702</td>\n",
       "      <td>0.118001</td>\n",
       "      <td>0.231201</td>\n",
       "    </tr>\n",
       "    <tr>\n",
       "      <th>333</th>\n",
       "      <td>0.101361</td>\n",
       "      <td>0.808685</td>\n",
       "      <td>0.597857</td>\n",
       "      <td>0.561133</td>\n",
       "      <td>0.518611</td>\n",
       "    </tr>\n",
       "  </tbody>\n",
       "</table>\n",
       "<p>334 rows × 5 columns</p>\n",
       "</div>"
      ],
      "text/plain": [
       "            0         1         2         3         4\n",
       "0    0.338461  0.793746  0.101749  0.186702  0.439606\n",
       "1    0.741713  0.537208  0.440438  0.371844  0.006269\n",
       "2    0.101985  0.415849  0.314053  0.865430  0.701579\n",
       "3    0.271698  0.360213  0.515918  0.668638  0.783571\n",
       "4    0.653062  0.070667  0.202476  0.621895  0.536560\n",
       "..        ...       ...       ...       ...       ...\n",
       "329  0.905638  0.409533  0.374882  0.209380  0.000461\n",
       "330  0.860111  0.798523  0.115985  0.741180  0.946149\n",
       "331  0.081604  0.343062  0.741529  0.260209  0.864721\n",
       "332  0.684520  0.650629  0.037702  0.118001  0.231201\n",
       "333  0.101361  0.808685  0.597857  0.561133  0.518611\n",
       "\n",
       "[334 rows x 5 columns]"
      ]
     },
     "execution_count": 12,
     "metadata": {},
     "output_type": "execute_result"
    }
   ],
   "source": [
    "newdf"
   ]
  },
  {
   "cell_type": "code",
   "execution_count": 13,
   "id": "82bdaf3c-1696-4ebf-a6ee-7dfebb59fe7b",
   "metadata": {},
   "outputs": [
    {
     "data": {
      "text/plain": [
       "pandas.core.frame.DataFrame"
      ]
     },
     "execution_count": 13,
     "metadata": {},
     "output_type": "execute_result"
    }
   ],
   "source": [
    "type(newdf)"
   ]
  },
  {
   "cell_type": "code",
   "execution_count": 14,
   "id": "62269b9f-b9db-42e8-a7b3-0aab96e917cb",
   "metadata": {},
   "outputs": [
    {
     "data": {
      "text/html": [
       "<div>\n",
       "<style scoped>\n",
       "    .dataframe tbody tr th:only-of-type {\n",
       "        vertical-align: middle;\n",
       "    }\n",
       "\n",
       "    .dataframe tbody tr th {\n",
       "        vertical-align: top;\n",
       "    }\n",
       "\n",
       "    .dataframe thead th {\n",
       "        text-align: right;\n",
       "    }\n",
       "</style>\n",
       "<table border=\"1\" class=\"dataframe\">\n",
       "  <thead>\n",
       "    <tr style=\"text-align: right;\">\n",
       "      <th></th>\n",
       "      <th>0</th>\n",
       "      <th>1</th>\n",
       "      <th>2</th>\n",
       "      <th>3</th>\n",
       "      <th>4</th>\n",
       "    </tr>\n",
       "  </thead>\n",
       "  <tbody>\n",
       "    <tr>\n",
       "      <th>count</th>\n",
       "      <td>334.000000</td>\n",
       "      <td>334.000000</td>\n",
       "      <td>334.000000</td>\n",
       "      <td>334.000000</td>\n",
       "      <td>334.000000</td>\n",
       "    </tr>\n",
       "    <tr>\n",
       "      <th>mean</th>\n",
       "      <td>0.488111</td>\n",
       "      <td>0.515434</td>\n",
       "      <td>0.491494</td>\n",
       "      <td>0.491529</td>\n",
       "      <td>0.513687</td>\n",
       "    </tr>\n",
       "    <tr>\n",
       "      <th>std</th>\n",
       "      <td>0.274563</td>\n",
       "      <td>0.284783</td>\n",
       "      <td>0.301572</td>\n",
       "      <td>0.294289</td>\n",
       "      <td>0.296439</td>\n",
       "    </tr>\n",
       "    <tr>\n",
       "      <th>min</th>\n",
       "      <td>0.000711</td>\n",
       "      <td>0.003193</td>\n",
       "      <td>0.000429</td>\n",
       "      <td>0.002689</td>\n",
       "      <td>0.000461</td>\n",
       "    </tr>\n",
       "    <tr>\n",
       "      <th>25%</th>\n",
       "      <td>0.270501</td>\n",
       "      <td>0.267959</td>\n",
       "      <td>0.227708</td>\n",
       "      <td>0.220198</td>\n",
       "      <td>0.249436</td>\n",
       "    </tr>\n",
       "    <tr>\n",
       "      <th>50%</th>\n",
       "      <td>0.491082</td>\n",
       "      <td>0.530229</td>\n",
       "      <td>0.483150</td>\n",
       "      <td>0.485179</td>\n",
       "      <td>0.518741</td>\n",
       "    </tr>\n",
       "    <tr>\n",
       "      <th>75%</th>\n",
       "      <td>0.718365</td>\n",
       "      <td>0.775156</td>\n",
       "      <td>0.742800</td>\n",
       "      <td>0.747082</td>\n",
       "      <td>0.771999</td>\n",
       "    </tr>\n",
       "    <tr>\n",
       "      <th>max</th>\n",
       "      <td>0.994177</td>\n",
       "      <td>0.998211</td>\n",
       "      <td>0.999754</td>\n",
       "      <td>0.999550</td>\n",
       "      <td>0.999092</td>\n",
       "    </tr>\n",
       "  </tbody>\n",
       "</table>\n",
       "</div>"
      ],
      "text/plain": [
       "                0           1           2           3           4\n",
       "count  334.000000  334.000000  334.000000  334.000000  334.000000\n",
       "mean     0.488111    0.515434    0.491494    0.491529    0.513687\n",
       "std      0.274563    0.284783    0.301572    0.294289    0.296439\n",
       "min      0.000711    0.003193    0.000429    0.002689    0.000461\n",
       "25%      0.270501    0.267959    0.227708    0.220198    0.249436\n",
       "50%      0.491082    0.530229    0.483150    0.485179    0.518741\n",
       "75%      0.718365    0.775156    0.742800    0.747082    0.771999\n",
       "max      0.994177    0.998211    0.999754    0.999550    0.999092"
      ]
     },
     "execution_count": 14,
     "metadata": {},
     "output_type": "execute_result"
    }
   ],
   "source": [
    "newdf.describe()"
   ]
  },
  {
   "cell_type": "code",
   "execution_count": 15,
   "id": "d1008df6-c5fe-4421-a242-b5e41d119ac0",
   "metadata": {},
   "outputs": [
    {
     "data": {
      "text/plain": [
       "0    float64\n",
       "1    float64\n",
       "2    float64\n",
       "3    float64\n",
       "4    float64\n",
       "dtype: object"
      ]
     },
     "execution_count": 15,
     "metadata": {},
     "output_type": "execute_result"
    }
   ],
   "source": [
    "newdf.dtypes"
   ]
  },
  {
   "cell_type": "code",
   "execution_count": 16,
   "id": "9357d016-1157-4b51-acbb-02ac71f1e6fb",
   "metadata": {},
   "outputs": [
    {
     "name": "stderr",
     "output_type": "stream",
     "text": [
      "C:\\Users\\welcome\\AppData\\Local\\Temp\\ipykernel_5332\\2771891818.py:1: FutureWarning: ChainedAssignmentError: behaviour will change in pandas 3.0!\n",
      "You are setting values through chained assignment. Currently this works in certain cases, but when using Copy-on-Write (which will become the default behaviour in pandas 3.0) this will never work to update the original DataFrame or Series, because the intermediate object on which we are setting values will behave as a copy.\n",
      "A typical example is when you are setting values in a column of a DataFrame, like:\n",
      "\n",
      "df[\"col\"][row_indexer] = value\n",
      "\n",
      "Use `df.loc[row_indexer, \"col\"] = values` instead, to perform the assignment in a single step and ensure this keeps updating the original `df`.\n",
      "\n",
      "See the caveats in the documentation: https://pandas.pydata.org/pandas-docs/stable/user_guide/indexing.html#returning-a-view-versus-a-copy\n",
      "\n",
      "  newdf[0][0] = \"harry\"\n",
      "C:\\Users\\welcome\\AppData\\Local\\Temp\\ipykernel_5332\\2771891818.py:1: FutureWarning: Setting an item of incompatible dtype is deprecated and will raise an error in a future version of pandas. Value 'harry' has dtype incompatible with float64, please explicitly cast to a compatible dtype first.\n",
      "  newdf[0][0] = \"harry\"\n"
     ]
    }
   ],
   "source": [
    "newdf[0][0] = \"harry\""
   ]
  },
  {
   "cell_type": "code",
   "execution_count": 17,
   "id": "8ec8e7a2-7099-4232-a61d-7f477e500b59",
   "metadata": {},
   "outputs": [
    {
     "data": {
      "text/plain": [
       "0     object\n",
       "1    float64\n",
       "2    float64\n",
       "3    float64\n",
       "4    float64\n",
       "dtype: object"
      ]
     },
     "execution_count": 17,
     "metadata": {},
     "output_type": "execute_result"
    }
   ],
   "source": [
    "newdf.dtypes"
   ]
  },
  {
   "cell_type": "code",
   "execution_count": 18,
   "id": "cb539c56-6908-4d58-9477-250ca0c620e0",
   "metadata": {},
   "outputs": [
    {
     "data": {
      "text/html": [
       "<div>\n",
       "<style scoped>\n",
       "    .dataframe tbody tr th:only-of-type {\n",
       "        vertical-align: middle;\n",
       "    }\n",
       "\n",
       "    .dataframe tbody tr th {\n",
       "        vertical-align: top;\n",
       "    }\n",
       "\n",
       "    .dataframe thead th {\n",
       "        text-align: right;\n",
       "    }\n",
       "</style>\n",
       "<table border=\"1\" class=\"dataframe\">\n",
       "  <thead>\n",
       "    <tr style=\"text-align: right;\">\n",
       "      <th></th>\n",
       "      <th>0</th>\n",
       "      <th>1</th>\n",
       "      <th>2</th>\n",
       "      <th>3</th>\n",
       "      <th>4</th>\n",
       "    </tr>\n",
       "  </thead>\n",
       "  <tbody>\n",
       "    <tr>\n",
       "      <th>0</th>\n",
       "      <td>harry</td>\n",
       "      <td>0.793746</td>\n",
       "      <td>0.101749</td>\n",
       "      <td>0.186702</td>\n",
       "      <td>0.439606</td>\n",
       "    </tr>\n",
       "    <tr>\n",
       "      <th>1</th>\n",
       "      <td>0.741713</td>\n",
       "      <td>0.537208</td>\n",
       "      <td>0.440438</td>\n",
       "      <td>0.371844</td>\n",
       "      <td>0.006269</td>\n",
       "    </tr>\n",
       "    <tr>\n",
       "      <th>2</th>\n",
       "      <td>0.101985</td>\n",
       "      <td>0.415849</td>\n",
       "      <td>0.314053</td>\n",
       "      <td>0.865430</td>\n",
       "      <td>0.701579</td>\n",
       "    </tr>\n",
       "    <tr>\n",
       "      <th>3</th>\n",
       "      <td>0.271698</td>\n",
       "      <td>0.360213</td>\n",
       "      <td>0.515918</td>\n",
       "      <td>0.668638</td>\n",
       "      <td>0.783571</td>\n",
       "    </tr>\n",
       "    <tr>\n",
       "      <th>4</th>\n",
       "      <td>0.653062</td>\n",
       "      <td>0.070667</td>\n",
       "      <td>0.202476</td>\n",
       "      <td>0.621895</td>\n",
       "      <td>0.536560</td>\n",
       "    </tr>\n",
       "  </tbody>\n",
       "</table>\n",
       "</div>"
      ],
      "text/plain": [
       "          0         1         2         3         4\n",
       "0     harry  0.793746  0.101749  0.186702  0.439606\n",
       "1  0.741713  0.537208  0.440438  0.371844  0.006269\n",
       "2  0.101985  0.415849  0.314053  0.865430  0.701579\n",
       "3  0.271698  0.360213  0.515918  0.668638  0.783571\n",
       "4  0.653062  0.070667  0.202476  0.621895  0.536560"
      ]
     },
     "execution_count": 18,
     "metadata": {},
     "output_type": "execute_result"
    }
   ],
   "source": [
    "newdf.head()"
   ]
  },
  {
   "cell_type": "code",
   "execution_count": 19,
   "id": "01eb3c51-ff82-4fd9-a274-052695680620",
   "metadata": {},
   "outputs": [
    {
     "data": {
      "text/plain": [
       "Index([  0,   1,   2,   3,   4,   5,   6,   7,   8,   9,\n",
       "       ...\n",
       "       324, 325, 326, 327, 328, 329, 330, 331, 332, 333],\n",
       "      dtype='int32', length=334)"
      ]
     },
     "execution_count": 19,
     "metadata": {},
     "output_type": "execute_result"
    }
   ],
   "source": [
    "newdf.index"
   ]
  },
  {
   "cell_type": "code",
   "execution_count": 20,
   "id": "0df3fcf6-4c6f-4893-b368-80bd99dab72a",
   "metadata": {},
   "outputs": [
    {
     "data": {
      "text/plain": [
       "RangeIndex(start=0, stop=5, step=1)"
      ]
     },
     "execution_count": 20,
     "metadata": {},
     "output_type": "execute_result"
    }
   ],
   "source": [
    "newdf.columns"
   ]
  },
  {
   "cell_type": "code",
   "execution_count": 21,
   "id": "ca15c503-e6c1-4b4a-8a4f-d1b139a58f31",
   "metadata": {},
   "outputs": [
    {
     "data": {
      "text/plain": [
       "array([['harry', 0.7937458907776215, 0.10174949915606646,\n",
       "        0.1867016844288849, 0.43960580566881835],\n",
       "       [0.7417130079199334, 0.5372083438398579, 0.4404380824735544,\n",
       "        0.371844256566748, 0.006269054534548624],\n",
       "       [0.10198498262278777, 0.41584886293492773, 0.3140533663609669,\n",
       "        0.8654303430522755, 0.7015786844085244],\n",
       "       ...,\n",
       "       [0.08160424662848442, 0.34306182269117147, 0.7415289640311855,\n",
       "        0.2602092133595689, 0.864721367086015],\n",
       "       [0.6845197323628093, 0.6506294407397982, 0.03770158991182315,\n",
       "        0.11800083570447761, 0.23120119085096535],\n",
       "       [0.10136132518780183, 0.8086845754830446, 0.5978565812957074,\n",
       "        0.5611325229231336, 0.518611399369549]], dtype=object)"
      ]
     },
     "execution_count": 21,
     "metadata": {},
     "output_type": "execute_result"
    }
   ],
   "source": [
    "newdf.to_numpy()"
   ]
  },
  {
   "cell_type": "code",
   "execution_count": 22,
   "id": "70c06a6c-6133-495b-b669-3992c3c0f25c",
   "metadata": {},
   "outputs": [
    {
     "data": {
      "text/html": [
       "<div>\n",
       "<style scoped>\n",
       "    .dataframe tbody tr th:only-of-type {\n",
       "        vertical-align: middle;\n",
       "    }\n",
       "\n",
       "    .dataframe tbody tr th {\n",
       "        vertical-align: top;\n",
       "    }\n",
       "\n",
       "    .dataframe thead th {\n",
       "        text-align: right;\n",
       "    }\n",
       "</style>\n",
       "<table border=\"1\" class=\"dataframe\">\n",
       "  <thead>\n",
       "    <tr style=\"text-align: right;\">\n",
       "      <th></th>\n",
       "      <th>0</th>\n",
       "      <th>1</th>\n",
       "      <th>2</th>\n",
       "      <th>3</th>\n",
       "      <th>4</th>\n",
       "      <th>5</th>\n",
       "      <th>6</th>\n",
       "      <th>7</th>\n",
       "      <th>8</th>\n",
       "      <th>9</th>\n",
       "      <th>...</th>\n",
       "      <th>324</th>\n",
       "      <th>325</th>\n",
       "      <th>326</th>\n",
       "      <th>327</th>\n",
       "      <th>328</th>\n",
       "      <th>329</th>\n",
       "      <th>330</th>\n",
       "      <th>331</th>\n",
       "      <th>332</th>\n",
       "      <th>333</th>\n",
       "    </tr>\n",
       "  </thead>\n",
       "  <tbody>\n",
       "    <tr>\n",
       "      <th>0</th>\n",
       "      <td>harry</td>\n",
       "      <td>0.741713</td>\n",
       "      <td>0.101985</td>\n",
       "      <td>0.271698</td>\n",
       "      <td>0.653062</td>\n",
       "      <td>0.854062</td>\n",
       "      <td>0.216871</td>\n",
       "      <td>0.346533</td>\n",
       "      <td>0.503725</td>\n",
       "      <td>0.511755</td>\n",
       "      <td>...</td>\n",
       "      <td>0.548673</td>\n",
       "      <td>0.295864</td>\n",
       "      <td>0.922691</td>\n",
       "      <td>0.603309</td>\n",
       "      <td>0.060378</td>\n",
       "      <td>0.905638</td>\n",
       "      <td>0.860111</td>\n",
       "      <td>0.081604</td>\n",
       "      <td>0.68452</td>\n",
       "      <td>0.101361</td>\n",
       "    </tr>\n",
       "    <tr>\n",
       "      <th>1</th>\n",
       "      <td>0.793746</td>\n",
       "      <td>0.537208</td>\n",
       "      <td>0.415849</td>\n",
       "      <td>0.360213</td>\n",
       "      <td>0.070667</td>\n",
       "      <td>0.645684</td>\n",
       "      <td>0.509709</td>\n",
       "      <td>0.553615</td>\n",
       "      <td>0.668694</td>\n",
       "      <td>0.67264</td>\n",
       "      <td>...</td>\n",
       "      <td>0.759476</td>\n",
       "      <td>0.551524</td>\n",
       "      <td>0.546842</td>\n",
       "      <td>0.591461</td>\n",
       "      <td>0.747739</td>\n",
       "      <td>0.409533</td>\n",
       "      <td>0.798523</td>\n",
       "      <td>0.343062</td>\n",
       "      <td>0.650629</td>\n",
       "      <td>0.808685</td>\n",
       "    </tr>\n",
       "    <tr>\n",
       "      <th>2</th>\n",
       "      <td>0.101749</td>\n",
       "      <td>0.440438</td>\n",
       "      <td>0.314053</td>\n",
       "      <td>0.515918</td>\n",
       "      <td>0.202476</td>\n",
       "      <td>0.408051</td>\n",
       "      <td>0.377498</td>\n",
       "      <td>0.869668</td>\n",
       "      <td>0.160307</td>\n",
       "      <td>0.571267</td>\n",
       "      <td>...</td>\n",
       "      <td>0.200958</td>\n",
       "      <td>0.896049</td>\n",
       "      <td>0.890188</td>\n",
       "      <td>0.324092</td>\n",
       "      <td>0.84104</td>\n",
       "      <td>0.374882</td>\n",
       "      <td>0.115985</td>\n",
       "      <td>0.741529</td>\n",
       "      <td>0.037702</td>\n",
       "      <td>0.597857</td>\n",
       "    </tr>\n",
       "    <tr>\n",
       "      <th>3</th>\n",
       "      <td>0.186702</td>\n",
       "      <td>0.371844</td>\n",
       "      <td>0.86543</td>\n",
       "      <td>0.668638</td>\n",
       "      <td>0.621895</td>\n",
       "      <td>0.674329</td>\n",
       "      <td>0.109497</td>\n",
       "      <td>0.220158</td>\n",
       "      <td>0.025358</td>\n",
       "      <td>0.23521</td>\n",
       "      <td>...</td>\n",
       "      <td>0.377271</td>\n",
       "      <td>0.354595</td>\n",
       "      <td>0.062269</td>\n",
       "      <td>0.063509</td>\n",
       "      <td>0.382962</td>\n",
       "      <td>0.20938</td>\n",
       "      <td>0.74118</td>\n",
       "      <td>0.260209</td>\n",
       "      <td>0.118001</td>\n",
       "      <td>0.561133</td>\n",
       "    </tr>\n",
       "    <tr>\n",
       "      <th>4</th>\n",
       "      <td>0.439606</td>\n",
       "      <td>0.006269</td>\n",
       "      <td>0.701579</td>\n",
       "      <td>0.783571</td>\n",
       "      <td>0.53656</td>\n",
       "      <td>0.40636</td>\n",
       "      <td>0.922522</td>\n",
       "      <td>0.510304</td>\n",
       "      <td>0.73438</td>\n",
       "      <td>0.518871</td>\n",
       "      <td>...</td>\n",
       "      <td>0.575403</td>\n",
       "      <td>0.111259</td>\n",
       "      <td>0.753754</td>\n",
       "      <td>0.364437</td>\n",
       "      <td>0.408472</td>\n",
       "      <td>0.000461</td>\n",
       "      <td>0.946149</td>\n",
       "      <td>0.864721</td>\n",
       "      <td>0.231201</td>\n",
       "      <td>0.518611</td>\n",
       "    </tr>\n",
       "  </tbody>\n",
       "</table>\n",
       "<p>5 rows × 334 columns</p>\n",
       "</div>"
      ],
      "text/plain": [
       "        0         1         2         3         4         5         6    \\\n",
       "0     harry  0.741713  0.101985  0.271698  0.653062  0.854062  0.216871   \n",
       "1  0.793746  0.537208  0.415849  0.360213  0.070667  0.645684  0.509709   \n",
       "2  0.101749  0.440438  0.314053  0.515918  0.202476  0.408051  0.377498   \n",
       "3  0.186702  0.371844   0.86543  0.668638  0.621895  0.674329  0.109497   \n",
       "4  0.439606  0.006269  0.701579  0.783571   0.53656   0.40636  0.922522   \n",
       "\n",
       "        7         8         9    ...       324       325       326       327  \\\n",
       "0  0.346533  0.503725  0.511755  ...  0.548673  0.295864  0.922691  0.603309   \n",
       "1  0.553615  0.668694   0.67264  ...  0.759476  0.551524  0.546842  0.591461   \n",
       "2  0.869668  0.160307  0.571267  ...  0.200958  0.896049  0.890188  0.324092   \n",
       "3  0.220158  0.025358   0.23521  ...  0.377271  0.354595  0.062269  0.063509   \n",
       "4  0.510304   0.73438  0.518871  ...  0.575403  0.111259  0.753754  0.364437   \n",
       "\n",
       "        328       329       330       331       332       333  \n",
       "0  0.060378  0.905638  0.860111  0.081604   0.68452  0.101361  \n",
       "1  0.747739  0.409533  0.798523  0.343062  0.650629  0.808685  \n",
       "2   0.84104  0.374882  0.115985  0.741529  0.037702  0.597857  \n",
       "3  0.382962   0.20938   0.74118  0.260209  0.118001  0.561133  \n",
       "4  0.408472  0.000461  0.946149  0.864721  0.231201  0.518611  \n",
       "\n",
       "[5 rows x 334 columns]"
      ]
     },
     "execution_count": 22,
     "metadata": {},
     "output_type": "execute_result"
    }
   ],
   "source": [
    "newdf.T\n",
    "# T is used for transpose, changing row into columns and vice versa."
   ]
  },
  {
   "cell_type": "code",
   "execution_count": 23,
   "id": "6e5f7844-43a4-450c-97fc-8f8f06443acc",
   "metadata": {},
   "outputs": [
    {
     "data": {
      "text/html": [
       "<div>\n",
       "<style scoped>\n",
       "    .dataframe tbody tr th:only-of-type {\n",
       "        vertical-align: middle;\n",
       "    }\n",
       "\n",
       "    .dataframe tbody tr th {\n",
       "        vertical-align: top;\n",
       "    }\n",
       "\n",
       "    .dataframe thead th {\n",
       "        text-align: right;\n",
       "    }\n",
       "</style>\n",
       "<table border=\"1\" class=\"dataframe\">\n",
       "  <thead>\n",
       "    <tr style=\"text-align: right;\">\n",
       "      <th></th>\n",
       "      <th>0</th>\n",
       "      <th>1</th>\n",
       "      <th>2</th>\n",
       "      <th>3</th>\n",
       "      <th>4</th>\n",
       "    </tr>\n",
       "  </thead>\n",
       "  <tbody>\n",
       "    <tr>\n",
       "      <th>0</th>\n",
       "      <td>harry</td>\n",
       "      <td>0.793746</td>\n",
       "      <td>0.101749</td>\n",
       "      <td>0.186702</td>\n",
       "      <td>0.439606</td>\n",
       "    </tr>\n",
       "    <tr>\n",
       "      <th>1</th>\n",
       "      <td>0.741713</td>\n",
       "      <td>0.537208</td>\n",
       "      <td>0.440438</td>\n",
       "      <td>0.371844</td>\n",
       "      <td>0.006269</td>\n",
       "    </tr>\n",
       "    <tr>\n",
       "      <th>2</th>\n",
       "      <td>0.101985</td>\n",
       "      <td>0.415849</td>\n",
       "      <td>0.314053</td>\n",
       "      <td>0.865430</td>\n",
       "      <td>0.701579</td>\n",
       "    </tr>\n",
       "    <tr>\n",
       "      <th>3</th>\n",
       "      <td>0.271698</td>\n",
       "      <td>0.360213</td>\n",
       "      <td>0.515918</td>\n",
       "      <td>0.668638</td>\n",
       "      <td>0.783571</td>\n",
       "    </tr>\n",
       "    <tr>\n",
       "      <th>4</th>\n",
       "      <td>0.653062</td>\n",
       "      <td>0.070667</td>\n",
       "      <td>0.202476</td>\n",
       "      <td>0.621895</td>\n",
       "      <td>0.536560</td>\n",
       "    </tr>\n",
       "  </tbody>\n",
       "</table>\n",
       "</div>"
      ],
      "text/plain": [
       "          0         1         2         3         4\n",
       "0     harry  0.793746  0.101749  0.186702  0.439606\n",
       "1  0.741713  0.537208  0.440438  0.371844  0.006269\n",
       "2  0.101985  0.415849  0.314053  0.865430  0.701579\n",
       "3  0.271698  0.360213  0.515918  0.668638  0.783571\n",
       "4  0.653062  0.070667  0.202476  0.621895  0.536560"
      ]
     },
     "execution_count": 23,
     "metadata": {},
     "output_type": "execute_result"
    }
   ],
   "source": [
    "newdf.head()"
   ]
  },
  {
   "cell_type": "code",
   "execution_count": 24,
   "id": "bbd1f3d0-c7d5-46fc-80dc-1b06b637b7ec",
   "metadata": {},
   "outputs": [],
   "source": [
    "newdf.loc[0,0] = 654"
   ]
  },
  {
   "cell_type": "code",
   "execution_count": 25,
   "id": "70380849-a957-461d-a8c8-7d4b45d2a64b",
   "metadata": {},
   "outputs": [
    {
     "data": {
      "text/html": [
       "<div>\n",
       "<style scoped>\n",
       "    .dataframe tbody tr th:only-of-type {\n",
       "        vertical-align: middle;\n",
       "    }\n",
       "\n",
       "    .dataframe tbody tr th {\n",
       "        vertical-align: top;\n",
       "    }\n",
       "\n",
       "    .dataframe thead th {\n",
       "        text-align: right;\n",
       "    }\n",
       "</style>\n",
       "<table border=\"1\" class=\"dataframe\">\n",
       "  <thead>\n",
       "    <tr style=\"text-align: right;\">\n",
       "      <th></th>\n",
       "      <th>0</th>\n",
       "      <th>1</th>\n",
       "      <th>2</th>\n",
       "      <th>3</th>\n",
       "      <th>4</th>\n",
       "    </tr>\n",
       "  </thead>\n",
       "  <tbody>\n",
       "    <tr>\n",
       "      <th>0</th>\n",
       "      <td>654</td>\n",
       "      <td>0.793746</td>\n",
       "      <td>0.101749</td>\n",
       "      <td>0.186702</td>\n",
       "      <td>0.439606</td>\n",
       "    </tr>\n",
       "    <tr>\n",
       "      <th>1</th>\n",
       "      <td>0.741713</td>\n",
       "      <td>0.537208</td>\n",
       "      <td>0.440438</td>\n",
       "      <td>0.371844</td>\n",
       "      <td>0.006269</td>\n",
       "    </tr>\n",
       "  </tbody>\n",
       "</table>\n",
       "</div>"
      ],
      "text/plain": [
       "          0         1         2         3         4\n",
       "0       654  0.793746  0.101749  0.186702  0.439606\n",
       "1  0.741713  0.537208  0.440438  0.371844  0.006269"
      ]
     },
     "execution_count": 25,
     "metadata": {},
     "output_type": "execute_result"
    }
   ],
   "source": [
    "newdf.head(2)"
   ]
  },
  {
   "cell_type": "code",
   "execution_count": 28,
   "id": "b751396a-bb43-4130-8127-5e1b5f7056dc",
   "metadata": {},
   "outputs": [
    {
     "data": {
      "text/html": [
       "<div>\n",
       "<style scoped>\n",
       "    .dataframe tbody tr th:only-of-type {\n",
       "        vertical-align: middle;\n",
       "    }\n",
       "\n",
       "    .dataframe tbody tr th {\n",
       "        vertical-align: top;\n",
       "    }\n",
       "\n",
       "    .dataframe thead th {\n",
       "        text-align: right;\n",
       "    }\n",
       "</style>\n",
       "<table border=\"1\" class=\"dataframe\">\n",
       "  <thead>\n",
       "    <tr style=\"text-align: right;\">\n",
       "      <th></th>\n",
       "      <th>1</th>\n",
       "      <th>2</th>\n",
       "    </tr>\n",
       "  </thead>\n",
       "  <tbody>\n",
       "    <tr>\n",
       "      <th>1</th>\n",
       "      <td>0.537208</td>\n",
       "      <td>0.440438</td>\n",
       "    </tr>\n",
       "    <tr>\n",
       "      <th>2</th>\n",
       "      <td>0.415849</td>\n",
       "      <td>0.314053</td>\n",
       "    </tr>\n",
       "  </tbody>\n",
       "</table>\n",
       "</div>"
      ],
      "text/plain": [
       "          1         2\n",
       "1  0.537208  0.440438\n",
       "2  0.415849  0.314053"
      ]
     },
     "execution_count": 28,
     "metadata": {},
     "output_type": "execute_result"
    }
   ],
   "source": [
    "newdf.loc[[1,2],[1,2]]"
   ]
  },
  {
   "cell_type": "code",
   "execution_count": null,
   "id": "3cc0d21e-4e4d-46cc-a47a-733bac24d2ee",
   "metadata": {},
   "outputs": [],
   "source": []
  }
 ],
 "metadata": {
  "kernelspec": {
   "display_name": "Python 3 (ipykernel)",
   "language": "python",
   "name": "python3"
  },
  "language_info": {
   "codemirror_mode": {
    "name": "ipython",
    "version": 3
   },
   "file_extension": ".py",
   "mimetype": "text/x-python",
   "name": "python",
   "nbconvert_exporter": "python",
   "pygments_lexer": "ipython3",
   "version": "3.12.3"
  }
 },
 "nbformat": 4,
 "nbformat_minor": 5
}
